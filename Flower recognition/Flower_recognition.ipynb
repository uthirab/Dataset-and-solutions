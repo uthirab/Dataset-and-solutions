{
 "cells": [
  {
   "cell_type": "code",
   "execution_count": 3,
   "metadata": {},
   "outputs": [],
   "source": [
    "# libraries\n",
    "import tensorflow as tf\n",
    "from tensorflow import keras\n",
    "import matplotlib.pyplot as plt\n",
    "import numpy as np\n",
    "from os import listdir\n",
    "from os.path import join\n",
    "import cv2\n",
    "import random\n"
   ]
  },
  {
   "cell_type": "code",
   "execution_count": 5,
   "metadata": {},
   "outputs": [
    {
     "name": "stdout",
     "output_type": "stream",
     "text": [
      "['daisy', 'dandelion', 'rose', 'sunflower', 'tulip']\n"
     ]
    }
   ],
   "source": [
    "#Path for the input folder\n",
    "path='D:/Kaggle/flowers/'\n",
    "#list out the directories inside the main input folder\n",
    "folders=listdir(path)\n",
    "print(folders)"
   ]
  },
  {
   "cell_type": "code",
   "execution_count": 8,
   "metadata": {},
   "outputs": [],
   "source": [
    "#import the images from the folder and resize them to a 128*128 size\n",
    "#Also generate the corresponding labels\n",
    "image_names, train_labels, train_images=[],[],[]\n",
    "size=64,64\n",
    "for folder in folders:\n",
    "    for file in listdir(join(path,folder)):\n",
    "        if file.endswith(\"jpg\"):\n",
    "            image_names.append(join(path,folder,file))\n",
    "            train_labels.append(folder)\n",
    "            img=cv2.imread(join(path, folder,file))\n",
    "            im=cv2.resize(img,size)\n",
    "            train_images.append(im)\n",
    "        else:\n",
    "            continue\n"
   ]
  },
  {
   "cell_type": "code",
   "execution_count": 9,
   "metadata": {},
   "outputs": [
    {
     "data": {
      "text/plain": [
       "(4323, 64, 64, 3)"
      ]
     },
     "execution_count": 9,
     "metadata": {},
     "output_type": "execute_result"
    }
   ],
   "source": [
    "#Transform the image array to a numpy type\n",
    "train=np.array(train_images)\n",
    "train.shape\n"
   ]
  },
  {
   "cell_type": "code",
   "execution_count": 10,
   "metadata": {},
   "outputs": [
    {
     "name": "stdout",
     "output_type": "stream",
     "text": [
      "[[[[139 141 141]\n",
      "   [150 149 149]\n",
      "   [153 152 152]\n",
      "   ...\n",
      "   [167 162 163]\n",
      "   [152 154 154]\n",
      "   [153 153 153]]\n",
      "\n",
      "  [[131 136 137]\n",
      "   [144 145 146]\n",
      "   [173 167 167]\n",
      "   ...\n",
      "   [163 158 159]\n",
      "   [153 155 155]\n",
      "   [149 149 149]]\n",
      "\n",
      "  [[118 125 126]\n",
      "   [137 140 138]\n",
      "   [154 154 154]\n",
      "   ...\n",
      "   [156 156 156]\n",
      "   [154 157 157]\n",
      "   [142 143 144]]\n",
      "\n",
      "  ...\n",
      "\n",
      "  [[ 23  44  41]\n",
      "   [ 25  46  43]\n",
      "   [ 36  51  49]\n",
      "   ...\n",
      "   [122 124 128]\n",
      "   [118 121 125]\n",
      "   [117 123 126]]\n",
      "\n",
      "  [[ 25  46  43]\n",
      "   [ 25  46  43]\n",
      "   [ 37  55  54]\n",
      "   ...\n",
      "   [126 127 131]\n",
      "   [124 125 129]\n",
      "   [122 123 127]]\n",
      "\n",
      "  [[ 26  47  44]\n",
      "   [ 27  48  45]\n",
      "   [ 34  55  53]\n",
      "   ...\n",
      "   [132 133 137]\n",
      "   [128 129 133]\n",
      "   [125 126 130]]]\n",
      "\n",
      "\n",
      " [[[228 221 218]\n",
      "   [220 213 210]\n",
      "   [226 219 215]\n",
      "   ...\n",
      "   [ 19  24  15]\n",
      "   [ 17  18  12]\n",
      "   [ 15   9  11]]\n",
      "\n",
      "  [[242 233 231]\n",
      "   [228 223 222]\n",
      "   [226 218 222]\n",
      "   ...\n",
      "   [ 31  34  26]\n",
      "   [ 19  16  18]\n",
      "   [ 10   4   7]]\n",
      "\n",
      "  [[234 230 228]\n",
      "   [244 238 233]\n",
      "   [241 235 230]\n",
      "   ...\n",
      "   [ 35  30  31]\n",
      "   [ 21  19  12]\n",
      "   [ 12   7   6]]\n",
      "\n",
      "  ...\n",
      "\n",
      "  [[183 178 180]\n",
      "   [183 177 178]\n",
      "   [188 184 183]\n",
      "   ...\n",
      "   [135 143 152]\n",
      "   [117 127 139]\n",
      "   [162 168 176]]\n",
      "\n",
      "  [[180 176 174]\n",
      "   [177 173 173]\n",
      "   [207 200 202]\n",
      "   ...\n",
      "   [131 141 150]\n",
      "   [112 130 136]\n",
      "   [164 170 180]]\n",
      "\n",
      "  [[232 226 220]\n",
      "   [240 233 230]\n",
      "   [239 232 229]\n",
      "   ...\n",
      "   [128 141 149]\n",
      "   [110 137 142]\n",
      "   [162 173 182]]]\n",
      "\n",
      "\n",
      " [[[107 119 118]\n",
      "   [ 88  85  96]\n",
      "   [ 98  97 108]\n",
      "   ...\n",
      "   [114 135 123]\n",
      "   [153 171 162]\n",
      "   [120 141 136]]\n",
      "\n",
      "  [[ 97  92  96]\n",
      "   [ 71  47  66]\n",
      "   [ 90  75  90]\n",
      "   ...\n",
      "   [130 143 130]\n",
      "   [103 120 111]\n",
      "   [110 128 117]]\n",
      "\n",
      "  [[ 94  76  89]\n",
      "   [ 87  69  83]\n",
      "   [ 87  77  83]\n",
      "   ...\n",
      "   [ 99 105 104]\n",
      "   [104 121 112]\n",
      "   [ 97 111 104]]\n",
      "\n",
      "  ...\n",
      "\n",
      "  [[ 38   7  22]\n",
      "   [ 39   8  23]\n",
      "   [ 31   3  22]\n",
      "   ...\n",
      "   [ 70  16  39]\n",
      "   [ 79  21  46]\n",
      "   [ 82  21  47]]\n",
      "\n",
      "  [[ 40  11  27]\n",
      "   [ 36   7  22]\n",
      "   [ 44  15  23]\n",
      "   ...\n",
      "   [ 74  18  40]\n",
      "   [ 76  18  43]\n",
      "   [ 79  18  45]]\n",
      "\n",
      "  [[ 37   8  24]\n",
      "   [ 39  10  26]\n",
      "   [ 34   2  25]\n",
      "   ...\n",
      "   [ 77  19  48]\n",
      "   [ 82  22  52]\n",
      "   [ 85  24  52]]]\n",
      "\n",
      "\n",
      " ...\n",
      "\n",
      "\n",
      " [[[ 59  70  74]\n",
      "   [ 61  61  55]\n",
      "   [ 64  91  93]\n",
      "   ...\n",
      "   [172 158 132]\n",
      "   [153 155 132]\n",
      "   [209 168 114]]\n",
      "\n",
      "  [[ 45  51  52]\n",
      "   [ 63  68  71]\n",
      "   [ 88 118 123]\n",
      "   ...\n",
      "   [ 94 132 118]\n",
      "   [111 147 118]\n",
      "   [186 147 112]]\n",
      "\n",
      "  [[ 52  55  54]\n",
      "   [ 61  96 100]\n",
      "   [ 72  85  78]\n",
      "   ...\n",
      "   [ 82  98  85]\n",
      "   [ 98 124  98]\n",
      "   [ 29  86  64]]\n",
      "\n",
      "  ...\n",
      "\n",
      "  [[ 89 125 132]\n",
      "   [ 97 131 144]\n",
      "   [ 86 122 130]\n",
      "   ...\n",
      "   [ 44  90  68]\n",
      "   [ 38  82  56]\n",
      "   [ 42  81  60]]\n",
      "\n",
      "  [[113 142 157]\n",
      "   [ 79 110 126]\n",
      "   [ 58  93 103]\n",
      "   ...\n",
      "   [ 24  70  51]\n",
      "   [ 59 104  81]\n",
      "   [ 60 102  79]]\n",
      "\n",
      "  [[ 83 117 127]\n",
      "   [ 94 129 147]\n",
      "   [ 77 114 112]\n",
      "   ...\n",
      "   [ 38  87  67]\n",
      "   [ 60 105  82]\n",
      "   [ 41  82  65]]]\n",
      "\n",
      "\n",
      " [[[154 152 160]\n",
      "   [241 244 246]\n",
      "   [201 197 198]\n",
      "   ...\n",
      "   [174 180 174]\n",
      "   [176 189 188]\n",
      "   [175 207 203]]\n",
      "\n",
      "  [[127 149 144]\n",
      "   [219 226 212]\n",
      "   [146 116 118]\n",
      "   ...\n",
      "   [107 125 131]\n",
      "   [ 47  65  68]\n",
      "   [165 164 157]]\n",
      "\n",
      "  [[197 151 138]\n",
      "   [252 254 255]\n",
      "   [160 142 112]\n",
      "   ...\n",
      "   [221 241 241]\n",
      "   [169 212 182]\n",
      "   [201 223 214]]\n",
      "\n",
      "  ...\n",
      "\n",
      "  [[ 13  58  64]\n",
      "   [ 35  43  30]\n",
      "   [  9  53  52]\n",
      "   ...\n",
      "   [ 14  48  47]\n",
      "   [ 26  27  20]\n",
      "   [ 17  28  20]]\n",
      "\n",
      "  [[ 14  19  15]\n",
      "   [ 44  65  56]\n",
      "   [ 11  10   1]\n",
      "   ...\n",
      "   [ 14  23  15]\n",
      "   [ 14  25  15]\n",
      "   [ 13  29  18]]\n",
      "\n",
      "  [[ 49  56  35]\n",
      "   [ 17  18  12]\n",
      "   [ 10  14   8]\n",
      "   ...\n",
      "   [ 10  22  14]\n",
      "   [ 10  23  10]\n",
      "   [  5  47  52]]]\n",
      "\n",
      "\n",
      " [[[ 38  50  41]\n",
      "   [ 74  75  62]\n",
      "   [170 150 144]\n",
      "   ...\n",
      "   [ 51  54  30]\n",
      "   [138 123 123]\n",
      "   [ 92  76  87]]\n",
      "\n",
      "  [[ 32  33  46]\n",
      "   [151 131 130]\n",
      "   [ 78  81  68]\n",
      "   ...\n",
      "   [213 189 205]\n",
      "   [151 130 145]\n",
      "   [140 126 128]]\n",
      "\n",
      "  [[ 25  24  26]\n",
      "   [169 143 165]\n",
      "   [ 11  23  14]\n",
      "   ...\n",
      "   [125 110 114]\n",
      "   [112 115 105]\n",
      "   [181 163 139]]\n",
      "\n",
      "  ...\n",
      "\n",
      "  [[  2  84 170]\n",
      "   [  6  81  89]\n",
      "   [  6  57  42]\n",
      "   ...\n",
      "   [ 16  42  42]\n",
      "   [ 15  54  67]\n",
      "   [  7  56  38]]\n",
      "\n",
      "  [[  3  51 106]\n",
      "   [ 12  41  34]\n",
      "   [  3  67  28]\n",
      "   ...\n",
      "   [  8  18  23]\n",
      "   [  3  60  46]\n",
      "   [ 14  45  35]]\n",
      "\n",
      "  [[  3  40  77]\n",
      "   [ 25  98  84]\n",
      "   [  9  85  70]\n",
      "   ...\n",
      "   [  8  51  44]\n",
      "   [  4  53  47]\n",
      "   [  5  53  52]]]]\n"
     ]
    }
   ],
   "source": [
    "print(train)"
   ]
  },
  {
   "cell_type": "code",
   "execution_count": 11,
   "metadata": {},
   "outputs": [],
   "source": [
    "#Reduce the RGB values between 0 and 1\n",
    "train = train.astype('float32')/255.0"
   ]
  },
  {
   "cell_type": "code",
   "execution_count": 12,
   "metadata": {},
   "outputs": [],
   "source": [
    "import pandas as pd\n",
    "#extract the lables\n",
    "label_dummies=pd.get_dummies(train_labels)\n",
    "labels=label_dummies.values.argmax(1)\n"
   ]
  },
  {
   "cell_type": "code",
   "execution_count": 13,
   "metadata": {},
   "outputs": [
    {
     "name": "stdout",
     "output_type": "stream",
     "text": [
      "      daisy  dandelion  rose  sunflower  tulip\n",
      "0         1          0     0          0      0\n",
      "1         1          0     0          0      0\n",
      "2         1          0     0          0      0\n",
      "3         1          0     0          0      0\n",
      "4         1          0     0          0      0\n",
      "5         1          0     0          0      0\n",
      "6         1          0     0          0      0\n",
      "7         1          0     0          0      0\n",
      "8         1          0     0          0      0\n",
      "9         1          0     0          0      0\n",
      "10        1          0     0          0      0\n",
      "11        1          0     0          0      0\n",
      "12        1          0     0          0      0\n",
      "13        1          0     0          0      0\n",
      "14        1          0     0          0      0\n",
      "15        1          0     0          0      0\n",
      "16        1          0     0          0      0\n",
      "17        1          0     0          0      0\n",
      "18        1          0     0          0      0\n",
      "19        1          0     0          0      0\n",
      "20        1          0     0          0      0\n",
      "21        1          0     0          0      0\n",
      "22        1          0     0          0      0\n",
      "23        1          0     0          0      0\n",
      "24        1          0     0          0      0\n",
      "25        1          0     0          0      0\n",
      "26        1          0     0          0      0\n",
      "27        1          0     0          0      0\n",
      "28        1          0     0          0      0\n",
      "29        1          0     0          0      0\n",
      "...     ...        ...   ...        ...    ...\n",
      "4293      0          0     0          0      1\n",
      "4294      0          0     0          0      1\n",
      "4295      0          0     0          0      1\n",
      "4296      0          0     0          0      1\n",
      "4297      0          0     0          0      1\n",
      "4298      0          0     0          0      1\n",
      "4299      0          0     0          0      1\n",
      "4300      0          0     0          0      1\n",
      "4301      0          0     0          0      1\n",
      "4302      0          0     0          0      1\n",
      "4303      0          0     0          0      1\n",
      "4304      0          0     0          0      1\n",
      "4305      0          0     0          0      1\n",
      "4306      0          0     0          0      1\n",
      "4307      0          0     0          0      1\n",
      "4308      0          0     0          0      1\n",
      "4309      0          0     0          0      1\n",
      "4310      0          0     0          0      1\n",
      "4311      0          0     0          0      1\n",
      "4312      0          0     0          0      1\n",
      "4313      0          0     0          0      1\n",
      "4314      0          0     0          0      1\n",
      "4315      0          0     0          0      1\n",
      "4316      0          0     0          0      1\n",
      "4317      0          0     0          0      1\n",
      "4318      0          0     0          0      1\n",
      "4319      0          0     0          0      1\n",
      "4320      0          0     0          0      1\n",
      "4321      0          0     0          0      1\n",
      "4322      0          0     0          0      1\n",
      "\n",
      "[4323 rows x 5 columns]\n"
     ]
    }
   ],
   "source": [
    "print(label_dummies)"
   ]
  },
  {
   "cell_type": "code",
   "execution_count": 14,
   "metadata": {},
   "outputs": [
    {
     "name": "stdout",
     "output_type": "stream",
     "text": [
      "[0 0 0 ... 4 4 4]\n"
     ]
    }
   ],
   "source": [
    "print(labels)"
   ]
  },
  {
   "cell_type": "code",
   "execution_count": 15,
   "metadata": {},
   "outputs": [
    {
     "name": "stdout",
     "output_type": "stream",
     "text": [
      "['daisy', 'daisy', 'daisy', 'daisy', 'daisy', 'daisy', 'daisy', 'daisy', 'daisy', 'daisy', 'daisy', 'daisy', 'daisy', 'daisy', 'daisy', 'daisy', 'daisy', 'daisy', 'daisy', 'daisy', 'daisy', 'daisy', 'daisy', 'daisy', 'daisy', 'daisy', 'daisy', 'daisy', 'daisy', 'daisy', 'daisy', 'daisy', 'daisy', 'daisy', 'daisy', 'daisy', 'daisy', 'daisy', 'daisy', 'daisy', 'daisy', 'daisy', 'daisy', 'daisy', 'daisy', 'daisy', 'daisy', 'daisy', 'daisy', 'daisy', 'daisy', 'daisy', 'daisy', 'daisy', 'daisy', 'daisy', 'daisy', 'daisy', 'daisy', 'daisy', 'daisy', 'daisy', 'daisy', 'daisy', 'daisy', 'daisy', 'daisy', 'daisy', 'daisy', 'daisy', 'daisy', 'daisy', 'daisy', 'daisy', 'daisy', 'daisy', 'daisy', 'daisy', 'daisy', 'daisy', 'daisy', 'daisy', 'daisy', 'daisy', 'daisy', 'daisy', 'daisy', 'daisy', 'daisy', 'daisy', 'daisy', 'daisy', 'daisy', 'daisy', 'daisy', 'daisy', 'daisy', 'daisy', 'daisy', 'daisy', 'daisy', 'daisy', 'daisy', 'daisy', 'daisy', 'daisy', 'daisy', 'daisy', 'daisy', 'daisy', 'daisy', 'daisy', 'daisy', 'daisy', 'daisy', 'daisy', 'daisy', 'daisy', 'daisy', 'daisy', 'daisy', 'daisy', 'daisy', 'daisy', 'daisy', 'daisy', 'daisy', 'daisy', 'daisy', 'daisy', 'daisy', 'daisy', 'daisy', 'daisy', 'daisy', 'daisy', 'daisy', 'daisy', 'daisy', 'daisy', 'daisy', 'daisy', 'daisy', 'daisy', 'daisy', 'daisy', 'daisy', 'daisy', 'daisy', 'daisy', 'daisy', 'daisy', 'daisy', 'daisy', 'daisy', 'daisy', 'daisy', 'daisy', 'daisy', 'daisy', 'daisy', 'daisy', 'daisy', 'daisy', 'daisy', 'daisy', 'daisy', 'daisy', 'daisy', 'daisy', 'daisy', 'daisy', 'daisy', 'daisy', 'daisy', 'daisy', 'daisy', 'daisy', 'daisy', 'daisy', 'daisy', 'daisy', 'daisy', 'daisy', 'daisy', 'daisy', 'daisy', 'daisy', 'daisy', 'daisy', 'daisy', 'daisy', 'daisy', 'daisy', 'daisy', 'daisy', 'daisy', 'daisy', 'daisy', 'daisy', 'daisy', 'daisy', 'daisy', 'daisy', 'daisy', 'daisy', 'daisy', 'daisy', 'daisy', 'daisy', 'daisy', 'daisy', 'daisy', 'daisy', 'daisy', 'daisy', 'daisy', 'daisy', 'daisy', 'daisy', 'daisy', 'daisy', 'daisy', 'daisy', 'daisy', 'daisy', 'daisy', 'daisy', 'daisy', 'daisy', 'daisy', 'daisy', 'daisy', 'daisy', 'daisy', 'daisy', 'daisy', 'daisy', 'daisy', 'daisy', 'daisy', 'daisy', 'daisy', 'daisy', 'daisy', 'daisy', 'daisy', 'daisy', 'daisy', 'daisy', 'daisy', 'daisy', 'daisy', 'daisy', 'daisy', 'daisy', 'daisy', 'daisy', 'daisy', 'daisy', 'daisy', 'daisy', 'daisy', 'daisy', 'daisy', 'daisy', 'daisy', 'daisy', 'daisy', 'daisy', 'daisy', 'daisy', 'daisy', 'daisy', 'daisy', 'daisy', 'daisy', 'daisy', 'daisy', 'daisy', 'daisy', 'daisy', 'daisy', 'daisy', 'daisy', 'daisy', 'daisy', 'daisy', 'daisy', 'daisy', 'daisy', 'daisy', 'daisy', 'daisy', 'daisy', 'daisy', 'daisy', 'daisy', 'daisy', 'daisy', 'daisy', 'daisy', 'daisy', 'daisy', 'daisy', 'daisy', 'daisy', 'daisy', 'daisy', 'daisy', 'daisy', 'daisy', 'daisy', 'daisy', 'daisy', 'daisy', 'daisy', 'daisy', 'daisy', 'daisy', 'daisy', 'daisy', 'daisy', 'daisy', 'daisy', 'daisy', 'daisy', 'daisy', 'daisy', 'daisy', 'daisy', 'daisy', 'daisy', 'daisy', 'daisy', 'daisy', 'daisy', 'daisy', 'daisy', 'daisy', 'daisy', 'daisy', 'daisy', 'daisy', 'daisy', 'daisy', 'daisy', 'daisy', 'daisy', 'daisy', 'daisy', 'daisy', 'daisy', 'daisy', 'daisy', 'daisy', 'daisy', 'daisy', 'daisy', 'daisy', 'daisy', 'daisy', 'daisy', 'daisy', 'daisy', 'daisy', 'daisy', 'daisy', 'daisy', 'daisy', 'daisy', 'daisy', 'daisy', 'daisy', 'daisy', 'daisy', 'daisy', 'daisy', 'daisy', 'daisy', 'daisy', 'daisy', 'daisy', 'daisy', 'daisy', 'daisy', 'daisy', 'daisy', 'daisy', 'daisy', 'daisy', 'daisy', 'daisy', 'daisy', 'daisy', 'daisy', 'daisy', 'daisy', 'daisy', 'daisy', 'daisy', 'daisy', 'daisy', 'daisy', 'daisy', 'daisy', 'daisy', 'daisy', 'daisy', 'daisy', 'daisy', 'daisy', 'daisy', 'daisy', 'daisy', 'daisy', 'daisy', 'daisy', 'daisy', 'daisy', 'daisy', 'daisy', 'daisy', 'daisy', 'daisy', 'daisy', 'daisy', 'daisy', 'daisy', 'daisy', 'daisy', 'daisy', 'daisy', 'daisy', 'daisy', 'daisy', 'daisy', 'daisy', 'daisy', 'daisy', 'daisy', 'daisy', 'daisy', 'daisy', 'daisy', 'daisy', 'daisy', 'daisy', 'daisy', 'daisy', 'daisy', 'daisy', 'daisy', 'daisy', 'daisy', 'daisy', 'daisy', 'daisy', 'daisy', 'daisy', 'daisy', 'daisy', 'daisy', 'daisy', 'daisy', 'daisy', 'daisy', 'daisy', 'daisy', 'daisy', 'daisy', 'daisy', 'daisy', 'daisy', 'daisy', 'daisy', 'daisy', 'daisy', 'daisy', 'daisy', 'daisy', 'daisy', 'daisy', 'daisy', 'daisy', 'daisy', 'daisy', 'daisy', 'daisy', 'daisy', 'daisy', 'daisy', 'daisy', 'daisy', 'daisy', 'daisy', 'daisy', 'daisy', 'daisy', 'daisy', 'daisy', 'daisy', 'daisy', 'daisy', 'daisy', 'daisy', 'daisy', 'daisy', 'daisy', 'daisy', 'daisy', 'daisy', 'daisy', 'daisy', 'daisy', 'daisy', 'daisy', 'daisy', 'daisy', 'daisy', 'daisy', 'daisy', 'daisy', 'daisy', 'daisy', 'daisy', 'daisy', 'daisy', 'daisy', 'daisy', 'daisy', 'daisy', 'daisy', 'daisy', 'daisy', 'daisy', 'daisy', 'daisy', 'daisy', 'daisy', 'daisy', 'daisy', 'daisy', 'daisy', 'daisy', 'daisy', 'daisy', 'daisy', 'daisy', 'daisy', 'daisy', 'daisy', 'daisy', 'daisy', 'daisy', 'daisy', 'daisy', 'daisy', 'daisy', 'daisy', 'daisy', 'daisy', 'daisy', 'daisy', 'daisy', 'daisy', 'daisy', 'daisy', 'daisy', 'daisy', 'daisy', 'daisy', 'daisy', 'daisy', 'daisy', 'daisy', 'daisy', 'daisy', 'daisy', 'daisy', 'daisy', 'daisy', 'daisy', 'daisy', 'daisy', 'daisy', 'daisy', 'daisy', 'daisy', 'daisy', 'daisy', 'daisy', 'daisy', 'daisy', 'daisy', 'daisy', 'daisy', 'daisy', 'daisy', 'daisy', 'daisy', 'daisy', 'daisy', 'daisy', 'daisy', 'daisy', 'daisy', 'daisy', 'daisy', 'daisy', 'daisy', 'daisy', 'daisy', 'daisy', 'daisy', 'daisy', 'daisy', 'daisy', 'daisy', 'daisy', 'daisy', 'daisy', 'daisy', 'daisy', 'daisy', 'daisy', 'daisy', 'daisy', 'daisy', 'daisy', 'daisy', 'daisy', 'daisy', 'daisy', 'daisy', 'daisy', 'daisy', 'daisy', 'daisy', 'daisy', 'daisy', 'daisy', 'daisy', 'daisy', 'daisy', 'daisy', 'daisy', 'daisy', 'daisy', 'daisy', 'daisy', 'daisy', 'daisy', 'daisy', 'daisy', 'daisy', 'daisy', 'daisy', 'daisy', 'daisy', 'daisy', 'daisy', 'daisy', 'daisy', 'daisy', 'daisy', 'daisy', 'daisy', 'daisy', 'daisy', 'daisy', 'daisy', 'daisy', 'daisy', 'daisy', 'daisy', 'daisy', 'daisy', 'daisy', 'daisy', 'daisy', 'daisy', 'daisy', 'daisy', 'daisy', 'daisy', 'daisy', 'daisy', 'daisy', 'daisy', 'daisy', 'daisy', 'daisy', 'daisy', 'daisy', 'daisy', 'daisy', 'daisy', 'daisy', 'daisy', 'daisy', 'daisy', 'daisy', 'daisy', 'daisy', 'daisy', 'daisy', 'daisy', 'daisy', 'daisy', 'daisy', 'daisy', 'daisy', 'daisy', 'daisy', 'daisy', 'daisy', 'daisy', 'daisy', 'daisy', 'daisy', 'daisy', 'daisy', 'daisy', 'daisy', 'daisy', 'daisy', 'daisy', 'daisy', 'daisy', 'daisy', 'daisy', 'daisy', 'daisy', 'daisy', 'daisy', 'daisy', 'daisy', 'daisy', 'daisy', 'daisy', 'daisy', 'daisy', 'daisy', 'daisy', 'daisy', 'daisy', 'daisy', 'daisy', 'daisy', 'daisy', 'daisy', 'daisy', 'daisy', 'daisy', 'daisy', 'daisy', 'daisy', 'daisy', 'daisy', 'daisy', 'daisy', 'daisy', 'daisy', 'daisy', 'daisy', 'daisy', 'daisy', 'daisy', 'dandelion', 'dandelion', 'dandelion', 'dandelion', 'dandelion', 'dandelion', 'dandelion', 'dandelion', 'dandelion', 'dandelion', 'dandelion', 'dandelion', 'dandelion', 'dandelion', 'dandelion', 'dandelion', 'dandelion', 'dandelion', 'dandelion', 'dandelion', 'dandelion', 'dandelion', 'dandelion', 'dandelion', 'dandelion', 'dandelion', 'dandelion', 'dandelion', 'dandelion', 'dandelion', 'dandelion', 'dandelion', 'dandelion', 'dandelion', 'dandelion', 'dandelion', 'dandelion', 'dandelion', 'dandelion', 'dandelion', 'dandelion', 'dandelion', 'dandelion', 'dandelion', 'dandelion', 'dandelion', 'dandelion', 'dandelion', 'dandelion', 'dandelion', 'dandelion', 'dandelion', 'dandelion', 'dandelion', 'dandelion', 'dandelion', 'dandelion', 'dandelion', 'dandelion', 'dandelion', 'dandelion', 'dandelion', 'dandelion', 'dandelion', 'dandelion', 'dandelion', 'dandelion', 'dandelion', 'dandelion', 'dandelion', 'dandelion', 'dandelion', 'dandelion', 'dandelion', 'dandelion', 'dandelion', 'dandelion', 'dandelion', 'dandelion', 'dandelion', 'dandelion', 'dandelion', 'dandelion', 'dandelion', 'dandelion', 'dandelion', 'dandelion', 'dandelion', 'dandelion', 'dandelion', 'dandelion', 'dandelion', 'dandelion', 'dandelion', 'dandelion', 'dandelion', 'dandelion', 'dandelion', 'dandelion', 'dandelion', 'dandelion', 'dandelion', 'dandelion', 'dandelion', 'dandelion', 'dandelion', 'dandelion', 'dandelion', 'dandelion', 'dandelion', 'dandelion', 'dandelion', 'dandelion', 'dandelion', 'dandelion', 'dandelion', 'dandelion', 'dandelion', 'dandelion', 'dandelion', 'dandelion', 'dandelion', 'dandelion', 'dandelion', 'dandelion', 'dandelion', 'dandelion', 'dandelion', 'dandelion', 'dandelion', 'dandelion', 'dandelion', 'dandelion', 'dandelion', 'dandelion', 'dandelion', 'dandelion', 'dandelion', 'dandelion', 'dandelion', 'dandelion', 'dandelion', 'dandelion', 'dandelion', 'dandelion', 'dandelion', 'dandelion', 'dandelion', 'dandelion', 'dandelion', 'dandelion', 'dandelion', 'dandelion', 'dandelion', 'dandelion', 'dandelion', 'dandelion', 'dandelion', 'dandelion', 'dandelion', 'dandelion', 'dandelion', 'dandelion', 'dandelion', 'dandelion', 'dandelion', 'dandelion', 'dandelion', 'dandelion', 'dandelion', 'dandelion', 'dandelion', 'dandelion', 'dandelion', 'dandelion', 'dandelion', 'dandelion', 'dandelion', 'dandelion', 'dandelion', 'dandelion', 'dandelion', 'dandelion', 'dandelion', 'dandelion', 'dandelion', 'dandelion', 'dandelion', 'dandelion', 'dandelion', 'dandelion', 'dandelion', 'dandelion', 'dandelion', 'dandelion', 'dandelion', 'dandelion', 'dandelion', 'dandelion', 'dandelion', 'dandelion', 'dandelion', 'dandelion', 'dandelion', 'dandelion', 'dandelion', 'dandelion', 'dandelion', 'dandelion', 'dandelion', 'dandelion', 'dandelion', 'dandelion', 'dandelion', 'dandelion', 'dandelion', 'dandelion', 'dandelion', 'dandelion', 'dandelion', 'dandelion', 'dandelion', 'dandelion', 'dandelion', 'dandelion', 'dandelion', 'dandelion', 'dandelion', 'dandelion', 'dandelion', 'dandelion', 'dandelion', 'dandelion', 'dandelion', 'dandelion', 'dandelion', 'dandelion', 'dandelion', 'dandelion', 'dandelion', 'dandelion', 'dandelion', 'dandelion', 'dandelion', 'dandelion', 'dandelion', 'dandelion', 'dandelion', 'dandelion', 'dandelion', 'dandelion', 'dandelion', 'dandelion', 'dandelion', 'dandelion', 'dandelion', 'dandelion', 'dandelion', 'dandelion', 'dandelion', 'dandelion', 'dandelion', 'dandelion', 'dandelion', 'dandelion', 'dandelion', 'dandelion', 'dandelion', 'dandelion', 'dandelion', 'dandelion', 'dandelion', 'dandelion', 'dandelion', 'dandelion', 'dandelion', 'dandelion', 'dandelion', 'dandelion', 'dandelion', 'dandelion', 'dandelion', 'dandelion', 'dandelion', 'dandelion', 'dandelion', 'dandelion', 'dandelion', 'dandelion', 'dandelion', 'dandelion', 'dandelion', 'dandelion', 'dandelion', 'dandelion', 'dandelion', 'dandelion', 'dandelion', 'dandelion', 'dandelion', 'dandelion', 'dandelion', 'dandelion', 'dandelion', 'dandelion', 'dandelion', 'dandelion', 'dandelion', 'dandelion', 'dandelion', 'dandelion', 'dandelion', 'dandelion', 'dandelion', 'dandelion', 'dandelion', 'dandelion', 'dandelion', 'dandelion', 'dandelion', 'dandelion', 'dandelion', 'dandelion', 'dandelion', 'dandelion', 'dandelion', 'dandelion', 'dandelion', 'dandelion', 'dandelion', 'dandelion', 'dandelion', 'dandelion', 'dandelion', 'dandelion', 'dandelion', 'dandelion', 'dandelion', 'dandelion', 'dandelion', 'dandelion', 'dandelion', 'dandelion', 'dandelion', 'dandelion', 'dandelion', 'dandelion', 'dandelion', 'dandelion', 'dandelion', 'dandelion', 'dandelion', 'dandelion', 'dandelion', 'dandelion', 'dandelion', 'dandelion', 'dandelion', 'dandelion', 'dandelion', 'dandelion', 'dandelion', 'dandelion', 'dandelion', 'dandelion', 'dandelion', 'dandelion', 'dandelion', 'dandelion', 'dandelion', 'dandelion', 'dandelion', 'dandelion', 'dandelion', 'dandelion', 'dandelion', 'dandelion', 'dandelion', 'dandelion', 'dandelion', 'dandelion', 'dandelion', 'dandelion', 'dandelion', 'dandelion', 'dandelion', 'dandelion', 'dandelion', 'dandelion', 'dandelion', 'dandelion', 'dandelion', 'dandelion', 'dandelion', 'dandelion', 'dandelion', 'dandelion', 'dandelion', 'dandelion', 'dandelion', 'dandelion', 'dandelion', 'dandelion', 'dandelion', 'dandelion', 'dandelion', 'dandelion', 'dandelion', 'dandelion', 'dandelion', 'dandelion', 'dandelion', 'dandelion', 'dandelion', 'dandelion', 'dandelion', 'dandelion', 'dandelion', 'dandelion', 'dandelion', 'dandelion', 'dandelion', 'dandelion', 'dandelion', 'dandelion', 'dandelion', 'dandelion', 'dandelion', 'dandelion', 'dandelion', 'dandelion', 'dandelion', 'dandelion', 'dandelion', 'dandelion', 'dandelion', 'dandelion', 'dandelion', 'dandelion', 'dandelion', 'dandelion', 'dandelion', 'dandelion', 'dandelion', 'dandelion', 'dandelion', 'dandelion', 'dandelion', 'dandelion', 'dandelion', 'dandelion', 'dandelion', 'dandelion', 'dandelion', 'dandelion', 'dandelion', 'dandelion', 'dandelion', 'dandelion', 'dandelion', 'dandelion', 'dandelion', 'dandelion', 'dandelion', 'dandelion', 'dandelion', 'dandelion', 'dandelion', 'dandelion', 'dandelion', 'dandelion', 'dandelion', 'dandelion', 'dandelion', 'dandelion', 'dandelion', 'dandelion', 'dandelion', 'dandelion', 'dandelion', 'dandelion', 'dandelion', 'dandelion', 'dandelion', 'dandelion', 'dandelion', 'dandelion', 'dandelion', 'dandelion', 'dandelion', 'dandelion', 'dandelion', 'dandelion', 'dandelion', 'dandelion', 'dandelion', 'dandelion', 'dandelion', 'dandelion', 'dandelion', 'dandelion', 'dandelion', 'dandelion', 'dandelion', 'dandelion', 'dandelion', 'dandelion', 'dandelion', 'dandelion', 'dandelion', 'dandelion', 'dandelion', 'dandelion', 'dandelion', 'dandelion', 'dandelion', 'dandelion', 'dandelion', 'dandelion', 'dandelion', 'dandelion', 'dandelion', 'dandelion', 'dandelion', 'dandelion', 'dandelion', 'dandelion', 'dandelion', 'dandelion', 'dandelion', 'dandelion', 'dandelion', 'dandelion', 'dandelion', 'dandelion', 'dandelion', 'dandelion', 'dandelion', 'dandelion', 'dandelion', 'dandelion', 'dandelion', 'dandelion', 'dandelion', 'dandelion', 'dandelion', 'dandelion', 'dandelion', 'dandelion', 'dandelion', 'dandelion', 'dandelion', 'dandelion', 'dandelion', 'dandelion', 'dandelion', 'dandelion', 'dandelion', 'dandelion', 'dandelion', 'dandelion', 'dandelion', 'dandelion', 'dandelion', 'dandelion', 'dandelion', 'dandelion', 'dandelion', 'dandelion', 'dandelion', 'dandelion', 'dandelion', 'dandelion', 'dandelion', 'dandelion', 'dandelion', 'dandelion', 'dandelion', 'dandelion', 'dandelion', 'dandelion', 'dandelion', 'dandelion', 'dandelion', 'dandelion', 'dandelion', 'dandelion', 'dandelion', 'dandelion', 'dandelion', 'dandelion', 'dandelion', 'dandelion', 'dandelion', 'dandelion', 'dandelion', 'dandelion', 'dandelion', 'dandelion', 'dandelion', 'dandelion', 'dandelion', 'dandelion', 'dandelion', 'dandelion', 'dandelion', 'dandelion', 'dandelion', 'dandelion', 'dandelion', 'dandelion', 'dandelion', 'dandelion', 'dandelion', 'dandelion', 'dandelion', 'dandelion', 'dandelion', 'dandelion', 'dandelion', 'dandelion', 'dandelion', 'dandelion', 'dandelion', 'dandelion', 'dandelion', 'dandelion', 'dandelion', 'dandelion', 'dandelion', 'dandelion', 'dandelion', 'dandelion', 'dandelion', 'dandelion', 'dandelion', 'dandelion', 'dandelion', 'dandelion', 'dandelion', 'dandelion', 'dandelion', 'dandelion', 'dandelion', 'dandelion', 'dandelion', 'dandelion', 'dandelion', 'dandelion', 'dandelion', 'dandelion', 'dandelion', 'dandelion', 'dandelion', 'dandelion', 'dandelion', 'dandelion', 'dandelion', 'dandelion', 'dandelion', 'dandelion', 'dandelion', 'dandelion', 'dandelion', 'dandelion', 'dandelion', 'dandelion', 'dandelion', 'dandelion', 'dandelion', 'dandelion', 'dandelion', 'dandelion', 'dandelion', 'dandelion', 'dandelion', 'dandelion', 'dandelion', 'dandelion', 'dandelion', 'dandelion', 'dandelion', 'dandelion', 'dandelion', 'dandelion', 'dandelion', 'dandelion', 'dandelion', 'dandelion', 'dandelion', 'dandelion', 'dandelion', 'dandelion', 'dandelion', 'dandelion', 'dandelion', 'dandelion', 'dandelion', 'dandelion', 'dandelion', 'dandelion', 'dandelion', 'dandelion', 'dandelion', 'dandelion', 'dandelion', 'dandelion', 'dandelion', 'dandelion', 'dandelion', 'dandelion', 'dandelion', 'dandelion', 'dandelion', 'dandelion', 'dandelion', 'dandelion', 'dandelion', 'dandelion', 'dandelion', 'dandelion', 'dandelion', 'dandelion', 'dandelion', 'dandelion', 'dandelion', 'dandelion', 'dandelion', 'dandelion', 'dandelion', 'dandelion', 'dandelion', 'dandelion', 'dandelion', 'dandelion', 'dandelion', 'dandelion', 'dandelion', 'dandelion', 'dandelion', 'dandelion', 'dandelion', 'dandelion', 'dandelion', 'dandelion', 'dandelion', 'dandelion', 'dandelion', 'dandelion', 'dandelion', 'dandelion', 'dandelion', 'dandelion', 'dandelion', 'dandelion', 'dandelion', 'dandelion', 'dandelion', 'dandelion', 'dandelion', 'dandelion', 'dandelion', 'dandelion', 'dandelion', 'dandelion', 'dandelion', 'dandelion', 'dandelion', 'dandelion', 'dandelion', 'dandelion', 'dandelion', 'dandelion', 'dandelion', 'dandelion', 'dandelion', 'dandelion', 'dandelion', 'dandelion', 'dandelion', 'dandelion', 'dandelion', 'dandelion', 'dandelion', 'dandelion', 'dandelion', 'dandelion', 'dandelion', 'dandelion', 'dandelion', 'dandelion', 'dandelion', 'dandelion', 'dandelion', 'dandelion', 'dandelion', 'dandelion', 'dandelion', 'dandelion', 'dandelion', 'dandelion', 'dandelion', 'dandelion', 'dandelion', 'dandelion', 'dandelion', 'dandelion', 'dandelion', 'dandelion', 'dandelion', 'dandelion', 'dandelion', 'dandelion', 'dandelion', 'dandelion', 'dandelion', 'dandelion', 'dandelion', 'dandelion', 'dandelion', 'dandelion', 'dandelion', 'dandelion', 'dandelion', 'dandelion', 'dandelion', 'dandelion', 'dandelion', 'dandelion', 'dandelion', 'dandelion', 'dandelion', 'dandelion', 'dandelion', 'dandelion', 'dandelion', 'dandelion', 'dandelion', 'dandelion', 'dandelion', 'dandelion', 'dandelion', 'dandelion', 'dandelion', 'dandelion', 'dandelion', 'dandelion', 'dandelion', 'dandelion', 'dandelion', 'dandelion', 'dandelion', 'dandelion', 'dandelion', 'dandelion', 'dandelion', 'dandelion', 'dandelion', 'dandelion', 'dandelion', 'dandelion', 'dandelion', 'dandelion', 'dandelion', 'dandelion', 'dandelion', 'dandelion', 'dandelion', 'dandelion', 'dandelion', 'dandelion', 'dandelion', 'dandelion', 'dandelion', 'dandelion', 'dandelion', 'dandelion', 'dandelion', 'dandelion', 'dandelion', 'dandelion', 'dandelion', 'dandelion', 'dandelion', 'dandelion', 'dandelion', 'dandelion', 'dandelion', 'dandelion', 'dandelion', 'dandelion', 'dandelion', 'dandelion', 'dandelion', 'dandelion', 'dandelion', 'dandelion', 'dandelion', 'dandelion', 'dandelion', 'dandelion', 'dandelion', 'dandelion', 'dandelion', 'dandelion', 'dandelion', 'dandelion', 'dandelion', 'dandelion', 'dandelion', 'dandelion', 'dandelion', 'dandelion', 'dandelion', 'dandelion', 'dandelion', 'dandelion', 'dandelion', 'dandelion', 'dandelion', 'dandelion', 'dandelion', 'dandelion', 'dandelion', 'dandelion', 'dandelion', 'dandelion', 'dandelion', 'dandelion', 'dandelion', 'dandelion', 'dandelion', 'dandelion', 'dandelion', 'dandelion', 'dandelion', 'dandelion', 'dandelion', 'dandelion', 'dandelion', 'dandelion', 'dandelion', 'dandelion', 'dandelion', 'dandelion', 'dandelion', 'dandelion', 'dandelion', 'dandelion', 'dandelion', 'dandelion', 'dandelion', 'dandelion', 'dandelion', 'dandelion', 'dandelion', 'dandelion', 'dandelion', 'dandelion', 'dandelion', 'dandelion', 'dandelion', 'dandelion', 'dandelion', 'dandelion', 'dandelion', 'dandelion', 'dandelion', 'dandelion', 'dandelion', 'dandelion', 'dandelion', 'dandelion', 'dandelion', 'dandelion', 'dandelion', 'dandelion', 'dandelion', 'dandelion', 'dandelion', 'dandelion', 'dandelion', 'dandelion', 'dandelion', 'dandelion', 'dandelion', 'dandelion', 'dandelion', 'dandelion', 'dandelion', 'dandelion', 'dandelion', 'dandelion', 'dandelion', 'dandelion', 'dandelion', 'dandelion', 'dandelion', 'dandelion', 'dandelion', 'dandelion', 'dandelion', 'dandelion', 'dandelion', 'dandelion', 'dandelion', 'dandelion', 'dandelion', 'dandelion', 'dandelion', 'dandelion', 'dandelion', 'dandelion', 'dandelion', 'dandelion', 'dandelion', 'dandelion', 'dandelion', 'dandelion', 'dandelion', 'dandelion', 'dandelion', 'dandelion', 'dandelion', 'dandelion', 'dandelion', 'dandelion', 'dandelion', 'dandelion', 'dandelion', 'dandelion', 'dandelion', 'dandelion', 'dandelion', 'dandelion', 'dandelion', 'dandelion', 'dandelion', 'dandelion', 'dandelion', 'dandelion', 'dandelion', 'dandelion', 'dandelion', 'dandelion', 'dandelion', 'dandelion', 'dandelion', 'dandelion', 'dandelion', 'dandelion', 'dandelion', 'rose', 'rose', 'rose', 'rose', 'rose', 'rose', 'rose', 'rose', 'rose', 'rose', 'rose', 'rose', 'rose', 'rose', 'rose', 'rose', 'rose', 'rose', 'rose', 'rose', 'rose', 'rose', 'rose', 'rose', 'rose', 'rose', 'rose', 'rose', 'rose', 'rose', 'rose', 'rose', 'rose', 'rose', 'rose', 'rose', 'rose', 'rose', 'rose', 'rose', 'rose', 'rose', 'rose', 'rose', 'rose', 'rose', 'rose', 'rose', 'rose', 'rose', 'rose', 'rose', 'rose', 'rose', 'rose', 'rose', 'rose', 'rose', 'rose', 'rose', 'rose', 'rose', 'rose', 'rose', 'rose', 'rose', 'rose', 'rose', 'rose', 'rose', 'rose', 'rose', 'rose', 'rose', 'rose', 'rose', 'rose', 'rose', 'rose', 'rose', 'rose', 'rose', 'rose', 'rose', 'rose', 'rose', 'rose', 'rose', 'rose', 'rose', 'rose', 'rose', 'rose', 'rose', 'rose', 'rose', 'rose', 'rose', 'rose', 'rose', 'rose', 'rose', 'rose', 'rose', 'rose', 'rose', 'rose', 'rose', 'rose', 'rose', 'rose', 'rose', 'rose', 'rose', 'rose', 'rose', 'rose', 'rose', 'rose', 'rose', 'rose', 'rose', 'rose', 'rose', 'rose', 'rose', 'rose', 'rose', 'rose', 'rose', 'rose', 'rose', 'rose', 'rose', 'rose', 'rose', 'rose', 'rose', 'rose', 'rose', 'rose', 'rose', 'rose', 'rose', 'rose', 'rose', 'rose', 'rose', 'rose', 'rose', 'rose', 'rose', 'rose', 'rose', 'rose', 'rose', 'rose', 'rose', 'rose', 'rose', 'rose', 'rose', 'rose', 'rose', 'rose', 'rose', 'rose', 'rose', 'rose', 'rose', 'rose', 'rose', 'rose', 'rose', 'rose', 'rose', 'rose', 'rose', 'rose', 'rose', 'rose', 'rose', 'rose', 'rose', 'rose', 'rose', 'rose', 'rose', 'rose', 'rose', 'rose', 'rose', 'rose', 'rose', 'rose', 'rose', 'rose', 'rose', 'rose', 'rose', 'rose', 'rose', 'rose', 'rose', 'rose', 'rose', 'rose', 'rose', 'rose', 'rose', 'rose', 'rose', 'rose', 'rose', 'rose', 'rose', 'rose', 'rose', 'rose', 'rose', 'rose', 'rose', 'rose', 'rose', 'rose', 'rose', 'rose', 'rose', 'rose', 'rose', 'rose', 'rose', 'rose', 'rose', 'rose', 'rose', 'rose', 'rose', 'rose', 'rose', 'rose', 'rose', 'rose', 'rose', 'rose', 'rose', 'rose', 'rose', 'rose', 'rose', 'rose', 'rose', 'rose', 'rose', 'rose', 'rose', 'rose', 'rose', 'rose', 'rose', 'rose', 'rose', 'rose', 'rose', 'rose', 'rose', 'rose', 'rose', 'rose', 'rose', 'rose', 'rose', 'rose', 'rose', 'rose', 'rose', 'rose', 'rose', 'rose', 'rose', 'rose', 'rose', 'rose', 'rose', 'rose', 'rose', 'rose', 'rose', 'rose', 'rose', 'rose', 'rose', 'rose', 'rose', 'rose', 'rose', 'rose', 'rose', 'rose', 'rose', 'rose', 'rose', 'rose', 'rose', 'rose', 'rose', 'rose', 'rose', 'rose', 'rose', 'rose', 'rose', 'rose', 'rose', 'rose', 'rose', 'rose', 'rose', 'rose', 'rose', 'rose', 'rose', 'rose', 'rose', 'rose', 'rose', 'rose', 'rose', 'rose', 'rose', 'rose', 'rose', 'rose', 'rose', 'rose', 'rose', 'rose', 'rose', 'rose', 'rose', 'rose', 'rose', 'rose', 'rose', 'rose', 'rose', 'rose', 'rose', 'rose', 'rose', 'rose', 'rose', 'rose', 'rose', 'rose', 'rose', 'rose', 'rose', 'rose', 'rose', 'rose', 'rose', 'rose', 'rose', 'rose', 'rose', 'rose', 'rose', 'rose', 'rose', 'rose', 'rose', 'rose', 'rose', 'rose', 'rose', 'rose', 'rose', 'rose', 'rose', 'rose', 'rose', 'rose', 'rose', 'rose', 'rose', 'rose', 'rose', 'rose', 'rose', 'rose', 'rose', 'rose', 'rose', 'rose', 'rose', 'rose', 'rose', 'rose', 'rose', 'rose', 'rose', 'rose', 'rose', 'rose', 'rose', 'rose', 'rose', 'rose', 'rose', 'rose', 'rose', 'rose', 'rose', 'rose', 'rose', 'rose', 'rose', 'rose', 'rose', 'rose', 'rose', 'rose', 'rose', 'rose', 'rose', 'rose', 'rose', 'rose', 'rose', 'rose', 'rose', 'rose', 'rose', 'rose', 'rose', 'rose', 'rose', 'rose', 'rose', 'rose', 'rose', 'rose', 'rose', 'rose', 'rose', 'rose', 'rose', 'rose', 'rose', 'rose', 'rose', 'rose', 'rose', 'rose', 'rose', 'rose', 'rose', 'rose', 'rose', 'rose', 'rose', 'rose', 'rose', 'rose', 'rose', 'rose', 'rose', 'rose', 'rose', 'rose', 'rose', 'rose', 'rose', 'rose', 'rose', 'rose', 'rose', 'rose', 'rose', 'rose', 'rose', 'rose', 'rose', 'rose', 'rose', 'rose', 'rose', 'rose', 'rose', 'rose', 'rose', 'rose', 'rose', 'rose', 'rose', 'rose', 'rose', 'rose', 'rose', 'rose', 'rose', 'rose', 'rose', 'rose', 'rose', 'rose', 'rose', 'rose', 'rose', 'rose', 'rose', 'rose', 'rose', 'rose', 'rose', 'rose', 'rose', 'rose', 'rose', 'rose', 'rose', 'rose', 'rose', 'rose', 'rose', 'rose', 'rose', 'rose', 'rose', 'rose', 'rose', 'rose', 'rose', 'rose', 'rose', 'rose', 'rose', 'rose', 'rose', 'rose', 'rose', 'rose', 'rose', 'rose', 'rose', 'rose', 'rose', 'rose', 'rose', 'rose', 'rose', 'rose', 'rose', 'rose', 'rose', 'rose', 'rose', 'rose', 'rose', 'rose', 'rose', 'rose', 'rose', 'rose', 'rose', 'rose', 'rose', 'rose', 'rose', 'rose', 'rose', 'rose', 'rose', 'rose', 'rose', 'rose', 'rose', 'rose', 'rose', 'rose', 'rose', 'rose', 'rose', 'rose', 'rose', 'rose', 'rose', 'rose', 'rose', 'rose', 'rose', 'rose', 'rose', 'rose', 'rose', 'rose', 'rose', 'rose', 'rose', 'rose', 'rose', 'rose', 'rose', 'rose', 'rose', 'rose', 'rose', 'rose', 'rose', 'rose', 'rose', 'rose', 'rose', 'rose', 'rose', 'rose', 'rose', 'rose', 'rose', 'rose', 'rose', 'rose', 'rose', 'rose', 'rose', 'rose', 'rose', 'rose', 'rose', 'rose', 'rose', 'rose', 'rose', 'rose', 'rose', 'rose', 'rose', 'rose', 'rose', 'rose', 'rose', 'rose', 'rose', 'rose', 'rose', 'rose', 'rose', 'rose', 'rose', 'rose', 'rose', 'rose', 'rose', 'rose', 'rose', 'rose', 'rose', 'rose', 'rose', 'rose', 'rose', 'rose', 'rose', 'rose', 'rose', 'rose', 'rose', 'rose', 'rose', 'rose', 'rose', 'rose', 'rose', 'rose', 'rose', 'rose', 'rose', 'rose', 'rose', 'rose', 'rose', 'rose', 'rose', 'rose', 'rose', 'rose', 'rose', 'rose', 'rose', 'rose', 'rose', 'rose', 'rose', 'rose', 'rose', 'rose', 'rose', 'rose', 'rose', 'rose', 'rose', 'rose', 'rose', 'rose', 'rose', 'rose', 'rose', 'rose', 'rose', 'rose', 'rose', 'rose', 'rose', 'rose', 'rose', 'rose', 'rose', 'rose', 'rose', 'rose', 'rose', 'rose', 'rose', 'rose', 'rose', 'rose', 'rose', 'rose', 'rose', 'rose', 'rose', 'rose', 'rose', 'rose', 'rose', 'rose', 'rose', 'rose', 'rose', 'rose', 'rose', 'rose', 'rose', 'rose', 'rose', 'rose', 'rose', 'rose', 'rose', 'rose', 'rose', 'rose', 'rose', 'rose', 'rose', 'rose', 'rose', 'rose', 'rose', 'rose', 'rose', 'rose', 'rose', 'rose', 'rose', 'rose', 'rose', 'rose', 'rose', 'rose', 'rose', 'rose', 'rose', 'rose', 'rose', 'rose', 'rose', 'rose', 'rose', 'rose', 'rose', 'rose', 'rose', 'sunflower', 'sunflower', 'sunflower', 'sunflower', 'sunflower', 'sunflower', 'sunflower', 'sunflower', 'sunflower', 'sunflower', 'sunflower', 'sunflower', 'sunflower', 'sunflower', 'sunflower', 'sunflower', 'sunflower', 'sunflower', 'sunflower', 'sunflower', 'sunflower', 'sunflower', 'sunflower', 'sunflower', 'sunflower', 'sunflower', 'sunflower', 'sunflower', 'sunflower', 'sunflower', 'sunflower', 'sunflower', 'sunflower', 'sunflower', 'sunflower', 'sunflower', 'sunflower', 'sunflower', 'sunflower', 'sunflower', 'sunflower', 'sunflower', 'sunflower', 'sunflower', 'sunflower', 'sunflower', 'sunflower', 'sunflower', 'sunflower', 'sunflower', 'sunflower', 'sunflower', 'sunflower', 'sunflower', 'sunflower', 'sunflower', 'sunflower', 'sunflower', 'sunflower', 'sunflower', 'sunflower', 'sunflower', 'sunflower', 'sunflower', 'sunflower', 'sunflower', 'sunflower', 'sunflower', 'sunflower', 'sunflower', 'sunflower', 'sunflower', 'sunflower', 'sunflower', 'sunflower', 'sunflower', 'sunflower', 'sunflower', 'sunflower', 'sunflower', 'sunflower', 'sunflower', 'sunflower', 'sunflower', 'sunflower', 'sunflower', 'sunflower', 'sunflower', 'sunflower', 'sunflower', 'sunflower', 'sunflower', 'sunflower', 'sunflower', 'sunflower', 'sunflower', 'sunflower', 'sunflower', 'sunflower', 'sunflower', 'sunflower', 'sunflower', 'sunflower', 'sunflower', 'sunflower', 'sunflower', 'sunflower', 'sunflower', 'sunflower', 'sunflower', 'sunflower', 'sunflower', 'sunflower', 'sunflower', 'sunflower', 'sunflower', 'sunflower', 'sunflower', 'sunflower', 'sunflower', 'sunflower', 'sunflower', 'sunflower', 'sunflower', 'sunflower', 'sunflower', 'sunflower', 'sunflower', 'sunflower', 'sunflower', 'sunflower', 'sunflower', 'sunflower', 'sunflower', 'sunflower', 'sunflower', 'sunflower', 'sunflower', 'sunflower', 'sunflower', 'sunflower', 'sunflower', 'sunflower', 'sunflower', 'sunflower', 'sunflower', 'sunflower', 'sunflower', 'sunflower', 'sunflower', 'sunflower', 'sunflower', 'sunflower', 'sunflower', 'sunflower', 'sunflower', 'sunflower', 'sunflower', 'sunflower', 'sunflower', 'sunflower', 'sunflower', 'sunflower', 'sunflower', 'sunflower', 'sunflower', 'sunflower', 'sunflower', 'sunflower', 'sunflower', 'sunflower', 'sunflower', 'sunflower', 'sunflower', 'sunflower', 'sunflower', 'sunflower', 'sunflower', 'sunflower', 'sunflower', 'sunflower', 'sunflower', 'sunflower', 'sunflower', 'sunflower', 'sunflower', 'sunflower', 'sunflower', 'sunflower', 'sunflower', 'sunflower', 'sunflower', 'sunflower', 'sunflower', 'sunflower', 'sunflower', 'sunflower', 'sunflower', 'sunflower', 'sunflower', 'sunflower', 'sunflower', 'sunflower', 'sunflower', 'sunflower', 'sunflower', 'sunflower', 'sunflower', 'sunflower', 'sunflower', 'sunflower', 'sunflower', 'sunflower', 'sunflower', 'sunflower', 'sunflower', 'sunflower', 'sunflower', 'sunflower', 'sunflower', 'sunflower', 'sunflower', 'sunflower', 'sunflower', 'sunflower', 'sunflower', 'sunflower', 'sunflower', 'sunflower', 'sunflower', 'sunflower', 'sunflower', 'sunflower', 'sunflower', 'sunflower', 'sunflower', 'sunflower', 'sunflower', 'sunflower', 'sunflower', 'sunflower', 'sunflower', 'sunflower', 'sunflower', 'sunflower', 'sunflower', 'sunflower', 'sunflower', 'sunflower', 'sunflower', 'sunflower', 'sunflower', 'sunflower', 'sunflower', 'sunflower', 'sunflower', 'sunflower', 'sunflower', 'sunflower', 'sunflower', 'sunflower', 'sunflower', 'sunflower', 'sunflower', 'sunflower', 'sunflower', 'sunflower', 'sunflower', 'sunflower', 'sunflower', 'sunflower', 'sunflower', 'sunflower', 'sunflower', 'sunflower', 'sunflower', 'sunflower', 'sunflower', 'sunflower', 'sunflower', 'sunflower', 'sunflower', 'sunflower', 'sunflower', 'sunflower', 'sunflower', 'sunflower', 'sunflower', 'sunflower', 'sunflower', 'sunflower', 'sunflower', 'sunflower', 'sunflower', 'sunflower', 'sunflower', 'sunflower', 'sunflower', 'sunflower', 'sunflower', 'sunflower', 'sunflower', 'sunflower', 'sunflower', 'sunflower', 'sunflower', 'sunflower', 'sunflower', 'sunflower', 'sunflower', 'sunflower', 'sunflower', 'sunflower', 'sunflower', 'sunflower', 'sunflower', 'sunflower', 'sunflower', 'sunflower', 'sunflower', 'sunflower', 'sunflower', 'sunflower', 'sunflower', 'sunflower', 'sunflower', 'sunflower', 'sunflower', 'sunflower', 'sunflower', 'sunflower', 'sunflower', 'sunflower', 'sunflower', 'sunflower', 'sunflower', 'sunflower', 'sunflower', 'sunflower', 'sunflower', 'sunflower', 'sunflower', 'sunflower', 'sunflower', 'sunflower', 'sunflower', 'sunflower', 'sunflower', 'sunflower', 'sunflower', 'sunflower', 'sunflower', 'sunflower', 'sunflower', 'sunflower', 'sunflower', 'sunflower', 'sunflower', 'sunflower', 'sunflower', 'sunflower', 'sunflower', 'sunflower', 'sunflower', 'sunflower', 'sunflower', 'sunflower', 'sunflower', 'sunflower', 'sunflower', 'sunflower', 'sunflower', 'sunflower', 'sunflower', 'sunflower', 'sunflower', 'sunflower', 'sunflower', 'sunflower', 'sunflower', 'sunflower', 'sunflower', 'sunflower', 'sunflower', 'sunflower', 'sunflower', 'sunflower', 'sunflower', 'sunflower', 'sunflower', 'sunflower', 'sunflower', 'sunflower', 'sunflower', 'sunflower', 'sunflower', 'sunflower', 'sunflower', 'sunflower', 'sunflower', 'sunflower', 'sunflower', 'sunflower', 'sunflower', 'sunflower', 'sunflower', 'sunflower', 'sunflower', 'sunflower', 'sunflower', 'sunflower', 'sunflower', 'sunflower', 'sunflower', 'sunflower', 'sunflower', 'sunflower', 'sunflower', 'sunflower', 'sunflower', 'sunflower', 'sunflower', 'sunflower', 'sunflower', 'sunflower', 'sunflower', 'sunflower', 'sunflower', 'sunflower', 'sunflower', 'sunflower', 'sunflower', 'sunflower', 'sunflower', 'sunflower', 'sunflower', 'sunflower', 'sunflower', 'sunflower', 'sunflower', 'sunflower', 'sunflower', 'sunflower', 'sunflower', 'sunflower', 'sunflower', 'sunflower', 'sunflower', 'sunflower', 'sunflower', 'sunflower', 'sunflower', 'sunflower', 'sunflower', 'sunflower', 'sunflower', 'sunflower', 'sunflower', 'sunflower', 'sunflower', 'sunflower', 'sunflower', 'sunflower', 'sunflower', 'sunflower', 'sunflower', 'sunflower', 'sunflower', 'sunflower', 'sunflower', 'sunflower', 'sunflower', 'sunflower', 'sunflower', 'sunflower', 'sunflower', 'sunflower', 'sunflower', 'sunflower', 'sunflower', 'sunflower', 'sunflower', 'sunflower', 'sunflower', 'sunflower', 'sunflower', 'sunflower', 'sunflower', 'sunflower', 'sunflower', 'sunflower', 'sunflower', 'sunflower', 'sunflower', 'sunflower', 'sunflower', 'sunflower', 'sunflower', 'sunflower', 'sunflower', 'sunflower', 'sunflower', 'sunflower', 'sunflower', 'sunflower', 'sunflower', 'sunflower', 'sunflower', 'sunflower', 'sunflower', 'sunflower', 'sunflower', 'sunflower', 'sunflower', 'sunflower', 'sunflower', 'sunflower', 'sunflower', 'sunflower', 'sunflower', 'sunflower', 'sunflower', 'sunflower', 'sunflower', 'sunflower', 'sunflower', 'sunflower', 'sunflower', 'sunflower', 'sunflower', 'sunflower', 'sunflower', 'sunflower', 'sunflower', 'sunflower', 'sunflower', 'sunflower', 'sunflower', 'sunflower', 'sunflower', 'sunflower', 'sunflower', 'sunflower', 'sunflower', 'sunflower', 'sunflower', 'sunflower', 'sunflower', 'sunflower', 'sunflower', 'sunflower', 'sunflower', 'sunflower', 'sunflower', 'sunflower', 'sunflower', 'sunflower', 'sunflower', 'sunflower', 'sunflower', 'sunflower', 'sunflower', 'sunflower', 'sunflower', 'sunflower', 'sunflower', 'sunflower', 'sunflower', 'sunflower', 'sunflower', 'sunflower', 'sunflower', 'sunflower', 'sunflower', 'sunflower', 'sunflower', 'sunflower', 'sunflower', 'sunflower', 'sunflower', 'sunflower', 'sunflower', 'sunflower', 'sunflower', 'sunflower', 'sunflower', 'sunflower', 'sunflower', 'sunflower', 'sunflower', 'sunflower', 'sunflower', 'sunflower', 'sunflower', 'sunflower', 'sunflower', 'sunflower', 'sunflower', 'sunflower', 'sunflower', 'sunflower', 'sunflower', 'sunflower', 'sunflower', 'sunflower', 'sunflower', 'sunflower', 'sunflower', 'sunflower', 'sunflower', 'sunflower', 'sunflower', 'sunflower', 'sunflower', 'sunflower', 'sunflower', 'sunflower', 'sunflower', 'sunflower', 'sunflower', 'sunflower', 'sunflower', 'sunflower', 'sunflower', 'sunflower', 'sunflower', 'sunflower', 'sunflower', 'sunflower', 'sunflower', 'sunflower', 'sunflower', 'sunflower', 'sunflower', 'sunflower', 'sunflower', 'sunflower', 'sunflower', 'sunflower', 'sunflower', 'sunflower', 'sunflower', 'sunflower', 'sunflower', 'sunflower', 'sunflower', 'sunflower', 'sunflower', 'sunflower', 'sunflower', 'sunflower', 'sunflower', 'sunflower', 'sunflower', 'sunflower', 'sunflower', 'sunflower', 'sunflower', 'sunflower', 'sunflower', 'sunflower', 'sunflower', 'sunflower', 'sunflower', 'sunflower', 'sunflower', 'sunflower', 'sunflower', 'sunflower', 'sunflower', 'sunflower', 'sunflower', 'sunflower', 'sunflower', 'sunflower', 'sunflower', 'sunflower', 'sunflower', 'sunflower', 'sunflower', 'sunflower', 'sunflower', 'sunflower', 'sunflower', 'sunflower', 'sunflower', 'sunflower', 'sunflower', 'sunflower', 'sunflower', 'sunflower', 'sunflower', 'sunflower', 'sunflower', 'sunflower', 'sunflower', 'sunflower', 'sunflower', 'sunflower', 'sunflower', 'sunflower', 'sunflower', 'sunflower', 'sunflower', 'sunflower', 'sunflower', 'sunflower', 'sunflower', 'sunflower', 'sunflower', 'sunflower', 'sunflower', 'sunflower', 'sunflower', 'sunflower', 'sunflower', 'sunflower', 'sunflower', 'sunflower', 'sunflower', 'sunflower', 'sunflower', 'sunflower', 'sunflower', 'sunflower', 'sunflower', 'sunflower', 'sunflower', 'sunflower', 'sunflower', 'sunflower', 'sunflower', 'sunflower', 'sunflower', 'tulip', 'tulip', 'tulip', 'tulip', 'tulip', 'tulip', 'tulip', 'tulip', 'tulip', 'tulip', 'tulip', 'tulip', 'tulip', 'tulip', 'tulip', 'tulip', 'tulip', 'tulip', 'tulip', 'tulip', 'tulip', 'tulip', 'tulip', 'tulip', 'tulip', 'tulip', 'tulip', 'tulip', 'tulip', 'tulip', 'tulip', 'tulip', 'tulip', 'tulip', 'tulip', 'tulip', 'tulip', 'tulip', 'tulip', 'tulip', 'tulip', 'tulip', 'tulip', 'tulip', 'tulip', 'tulip', 'tulip', 'tulip', 'tulip', 'tulip', 'tulip', 'tulip', 'tulip', 'tulip', 'tulip', 'tulip', 'tulip', 'tulip', 'tulip', 'tulip', 'tulip', 'tulip', 'tulip', 'tulip', 'tulip', 'tulip', 'tulip', 'tulip', 'tulip', 'tulip', 'tulip', 'tulip', 'tulip', 'tulip', 'tulip', 'tulip', 'tulip', 'tulip', 'tulip', 'tulip', 'tulip', 'tulip', 'tulip', 'tulip', 'tulip', 'tulip', 'tulip', 'tulip', 'tulip', 'tulip', 'tulip', 'tulip', 'tulip', 'tulip', 'tulip', 'tulip', 'tulip', 'tulip', 'tulip', 'tulip', 'tulip', 'tulip', 'tulip', 'tulip', 'tulip', 'tulip', 'tulip', 'tulip', 'tulip', 'tulip', 'tulip', 'tulip', 'tulip', 'tulip', 'tulip', 'tulip', 'tulip', 'tulip', 'tulip', 'tulip', 'tulip', 'tulip', 'tulip', 'tulip', 'tulip', 'tulip', 'tulip', 'tulip', 'tulip', 'tulip', 'tulip', 'tulip', 'tulip', 'tulip', 'tulip', 'tulip', 'tulip', 'tulip', 'tulip', 'tulip', 'tulip', 'tulip', 'tulip', 'tulip', 'tulip', 'tulip', 'tulip', 'tulip', 'tulip', 'tulip', 'tulip', 'tulip', 'tulip', 'tulip', 'tulip', 'tulip', 'tulip', 'tulip', 'tulip', 'tulip', 'tulip', 'tulip', 'tulip', 'tulip', 'tulip', 'tulip', 'tulip', 'tulip', 'tulip', 'tulip', 'tulip', 'tulip', 'tulip', 'tulip', 'tulip', 'tulip', 'tulip', 'tulip', 'tulip', 'tulip', 'tulip', 'tulip', 'tulip', 'tulip', 'tulip', 'tulip', 'tulip', 'tulip', 'tulip', 'tulip', 'tulip', 'tulip', 'tulip', 'tulip', 'tulip', 'tulip', 'tulip', 'tulip', 'tulip', 'tulip', 'tulip', 'tulip', 'tulip', 'tulip', 'tulip', 'tulip', 'tulip', 'tulip', 'tulip', 'tulip', 'tulip', 'tulip', 'tulip', 'tulip', 'tulip', 'tulip', 'tulip', 'tulip', 'tulip', 'tulip', 'tulip', 'tulip', 'tulip', 'tulip', 'tulip', 'tulip', 'tulip', 'tulip', 'tulip', 'tulip', 'tulip', 'tulip', 'tulip', 'tulip', 'tulip', 'tulip', 'tulip', 'tulip', 'tulip', 'tulip', 'tulip', 'tulip', 'tulip', 'tulip', 'tulip', 'tulip', 'tulip', 'tulip', 'tulip', 'tulip', 'tulip', 'tulip', 'tulip', 'tulip', 'tulip', 'tulip', 'tulip', 'tulip', 'tulip', 'tulip', 'tulip', 'tulip', 'tulip', 'tulip', 'tulip', 'tulip', 'tulip', 'tulip', 'tulip', 'tulip', 'tulip', 'tulip', 'tulip', 'tulip', 'tulip', 'tulip', 'tulip', 'tulip', 'tulip', 'tulip', 'tulip', 'tulip', 'tulip', 'tulip', 'tulip', 'tulip', 'tulip', 'tulip', 'tulip', 'tulip', 'tulip', 'tulip', 'tulip', 'tulip', 'tulip', 'tulip', 'tulip', 'tulip', 'tulip', 'tulip', 'tulip', 'tulip', 'tulip', 'tulip', 'tulip', 'tulip', 'tulip', 'tulip', 'tulip', 'tulip', 'tulip', 'tulip', 'tulip', 'tulip', 'tulip', 'tulip', 'tulip', 'tulip', 'tulip', 'tulip', 'tulip', 'tulip', 'tulip', 'tulip', 'tulip', 'tulip', 'tulip', 'tulip', 'tulip', 'tulip', 'tulip', 'tulip', 'tulip', 'tulip', 'tulip', 'tulip', 'tulip', 'tulip', 'tulip', 'tulip', 'tulip', 'tulip', 'tulip', 'tulip', 'tulip', 'tulip', 'tulip', 'tulip', 'tulip', 'tulip', 'tulip', 'tulip', 'tulip', 'tulip', 'tulip', 'tulip', 'tulip', 'tulip', 'tulip', 'tulip', 'tulip', 'tulip', 'tulip', 'tulip', 'tulip', 'tulip', 'tulip', 'tulip', 'tulip', 'tulip', 'tulip', 'tulip', 'tulip', 'tulip', 'tulip', 'tulip', 'tulip', 'tulip', 'tulip', 'tulip', 'tulip', 'tulip', 'tulip', 'tulip', 'tulip', 'tulip', 'tulip', 'tulip', 'tulip', 'tulip', 'tulip', 'tulip', 'tulip', 'tulip', 'tulip', 'tulip', 'tulip', 'tulip', 'tulip', 'tulip', 'tulip', 'tulip', 'tulip', 'tulip', 'tulip', 'tulip', 'tulip', 'tulip', 'tulip', 'tulip', 'tulip', 'tulip', 'tulip', 'tulip', 'tulip', 'tulip', 'tulip', 'tulip', 'tulip', 'tulip', 'tulip', 'tulip', 'tulip', 'tulip', 'tulip', 'tulip', 'tulip', 'tulip', 'tulip', 'tulip', 'tulip', 'tulip', 'tulip', 'tulip', 'tulip', 'tulip', 'tulip', 'tulip', 'tulip', 'tulip', 'tulip', 'tulip', 'tulip', 'tulip', 'tulip', 'tulip', 'tulip', 'tulip', 'tulip', 'tulip', 'tulip', 'tulip', 'tulip', 'tulip', 'tulip', 'tulip', 'tulip', 'tulip', 'tulip', 'tulip', 'tulip', 'tulip', 'tulip', 'tulip', 'tulip', 'tulip', 'tulip', 'tulip', 'tulip', 'tulip', 'tulip', 'tulip', 'tulip', 'tulip', 'tulip', 'tulip', 'tulip', 'tulip', 'tulip', 'tulip', 'tulip', 'tulip', 'tulip', 'tulip', 'tulip', 'tulip', 'tulip', 'tulip', 'tulip', 'tulip', 'tulip', 'tulip', 'tulip', 'tulip', 'tulip', 'tulip', 'tulip', 'tulip', 'tulip', 'tulip', 'tulip', 'tulip', 'tulip', 'tulip', 'tulip', 'tulip', 'tulip', 'tulip', 'tulip', 'tulip', 'tulip', 'tulip', 'tulip', 'tulip', 'tulip', 'tulip', 'tulip', 'tulip', 'tulip', 'tulip', 'tulip', 'tulip', 'tulip', 'tulip', 'tulip', 'tulip', 'tulip', 'tulip', 'tulip', 'tulip', 'tulip', 'tulip', 'tulip', 'tulip', 'tulip', 'tulip', 'tulip', 'tulip', 'tulip', 'tulip', 'tulip', 'tulip', 'tulip', 'tulip', 'tulip', 'tulip', 'tulip', 'tulip', 'tulip', 'tulip', 'tulip', 'tulip', 'tulip', 'tulip', 'tulip', 'tulip', 'tulip', 'tulip', 'tulip', 'tulip', 'tulip', 'tulip', 'tulip', 'tulip', 'tulip', 'tulip', 'tulip', 'tulip', 'tulip', 'tulip', 'tulip', 'tulip', 'tulip', 'tulip', 'tulip', 'tulip', 'tulip', 'tulip', 'tulip', 'tulip', 'tulip', 'tulip', 'tulip', 'tulip', 'tulip', 'tulip', 'tulip', 'tulip', 'tulip', 'tulip', 'tulip', 'tulip', 'tulip', 'tulip', 'tulip', 'tulip', 'tulip', 'tulip', 'tulip', 'tulip', 'tulip', 'tulip', 'tulip', 'tulip', 'tulip', 'tulip', 'tulip', 'tulip', 'tulip', 'tulip', 'tulip', 'tulip', 'tulip', 'tulip', 'tulip', 'tulip', 'tulip', 'tulip', 'tulip', 'tulip', 'tulip', 'tulip', 'tulip', 'tulip', 'tulip', 'tulip', 'tulip', 'tulip', 'tulip', 'tulip', 'tulip', 'tulip', 'tulip', 'tulip', 'tulip', 'tulip', 'tulip', 'tulip', 'tulip', 'tulip', 'tulip', 'tulip', 'tulip', 'tulip', 'tulip', 'tulip', 'tulip', 'tulip', 'tulip', 'tulip', 'tulip', 'tulip', 'tulip', 'tulip', 'tulip', 'tulip', 'tulip', 'tulip', 'tulip', 'tulip', 'tulip', 'tulip', 'tulip', 'tulip', 'tulip', 'tulip', 'tulip', 'tulip', 'tulip', 'tulip', 'tulip', 'tulip', 'tulip', 'tulip', 'tulip', 'tulip', 'tulip', 'tulip', 'tulip', 'tulip', 'tulip', 'tulip', 'tulip', 'tulip', 'tulip', 'tulip', 'tulip', 'tulip', 'tulip', 'tulip', 'tulip', 'tulip', 'tulip', 'tulip', 'tulip', 'tulip', 'tulip', 'tulip', 'tulip', 'tulip', 'tulip', 'tulip', 'tulip', 'tulip', 'tulip', 'tulip', 'tulip', 'tulip', 'tulip', 'tulip', 'tulip', 'tulip', 'tulip', 'tulip', 'tulip', 'tulip', 'tulip', 'tulip', 'tulip', 'tulip', 'tulip', 'tulip', 'tulip', 'tulip', 'tulip', 'tulip', 'tulip', 'tulip', 'tulip', 'tulip', 'tulip', 'tulip', 'tulip', 'tulip', 'tulip', 'tulip', 'tulip', 'tulip', 'tulip', 'tulip', 'tulip', 'tulip', 'tulip', 'tulip', 'tulip', 'tulip', 'tulip', 'tulip', 'tulip', 'tulip', 'tulip', 'tulip', 'tulip', 'tulip', 'tulip', 'tulip', 'tulip', 'tulip', 'tulip', 'tulip', 'tulip', 'tulip', 'tulip', 'tulip', 'tulip', 'tulip', 'tulip', 'tulip', 'tulip', 'tulip', 'tulip', 'tulip', 'tulip', 'tulip', 'tulip', 'tulip', 'tulip', 'tulip', 'tulip', 'tulip', 'tulip', 'tulip', 'tulip', 'tulip', 'tulip', 'tulip', 'tulip', 'tulip', 'tulip', 'tulip', 'tulip', 'tulip', 'tulip', 'tulip', 'tulip', 'tulip', 'tulip', 'tulip', 'tulip', 'tulip', 'tulip', 'tulip', 'tulip', 'tulip', 'tulip', 'tulip', 'tulip', 'tulip', 'tulip', 'tulip', 'tulip', 'tulip', 'tulip', 'tulip', 'tulip', 'tulip', 'tulip', 'tulip', 'tulip', 'tulip', 'tulip', 'tulip', 'tulip', 'tulip', 'tulip', 'tulip', 'tulip', 'tulip', 'tulip', 'tulip', 'tulip', 'tulip', 'tulip', 'tulip', 'tulip', 'tulip', 'tulip', 'tulip', 'tulip', 'tulip', 'tulip', 'tulip', 'tulip', 'tulip', 'tulip', 'tulip', 'tulip', 'tulip', 'tulip', 'tulip', 'tulip', 'tulip', 'tulip', 'tulip', 'tulip', 'tulip', 'tulip', 'tulip', 'tulip', 'tulip', 'tulip', 'tulip', 'tulip', 'tulip', 'tulip', 'tulip', 'tulip', 'tulip', 'tulip', 'tulip', 'tulip', 'tulip', 'tulip', 'tulip', 'tulip', 'tulip', 'tulip', 'tulip', 'tulip', 'tulip', 'tulip', 'tulip', 'tulip', 'tulip', 'tulip', 'tulip', 'tulip', 'tulip', 'tulip', 'tulip', 'tulip', 'tulip', 'tulip', 'tulip', 'tulip', 'tulip', 'tulip', 'tulip', 'tulip', 'tulip', 'tulip', 'tulip', 'tulip', 'tulip', 'tulip', 'tulip', 'tulip', 'tulip', 'tulip', 'tulip', 'tulip', 'tulip', 'tulip', 'tulip', 'tulip', 'tulip', 'tulip', 'tulip', 'tulip', 'tulip', 'tulip', 'tulip', 'tulip', 'tulip', 'tulip', 'tulip', 'tulip', 'tulip', 'tulip', 'tulip', 'tulip', 'tulip', 'tulip', 'tulip', 'tulip', 'tulip', 'tulip', 'tulip', 'tulip', 'tulip', 'tulip', 'tulip', 'tulip', 'tulip', 'tulip', 'tulip', 'tulip', 'tulip', 'tulip', 'tulip', 'tulip', 'tulip', 'tulip', 'tulip', 'tulip', 'tulip', 'tulip', 'tulip', 'tulip', 'tulip', 'tulip', 'tulip', 'tulip', 'tulip', 'tulip', 'tulip', 'tulip', 'tulip', 'tulip', 'tulip', 'tulip', 'tulip', 'tulip', 'tulip', 'tulip', 'tulip', 'tulip', 'tulip', 'tulip', 'tulip', 'tulip', 'tulip', 'tulip', 'tulip']\n"
     ]
    }
   ],
   "source": [
    "pd.unique(train_labels)\n",
    "print(train_labels)"
   ]
  },
  {
   "cell_type": "code",
   "execution_count": 16,
   "metadata": {},
   "outputs": [
    {
     "data": {
      "text/plain": [
       "array(['daisy', 'dandelion', 'rose', 'sunflower', 'tulip'], dtype=object)"
      ]
     },
     "execution_count": 16,
     "metadata": {},
     "output_type": "execute_result"
    }
   ],
   "source": [
    "pd.unique(train_labels)"
   ]
  },
  {
   "cell_type": "code",
   "execution_count": 17,
   "metadata": {},
   "outputs": [
    {
     "data": {
      "text/plain": [
       "array([0, 1, 2, 3, 4], dtype=int64)"
      ]
     },
     "execution_count": 17,
     "metadata": {},
     "output_type": "execute_result"
    }
   ],
   "source": [
    "pd.unique(labels)"
   ]
  },
  {
   "cell_type": "code",
   "execution_count": 19,
   "metadata": {},
   "outputs": [],
   "source": [
    "#shuffle the labels and images randomly for better result\n",
    "union_list=list(zip(train,labels))\n",
    "random.shuffle(union_list)\n",
    "train,labels=zip(*union_list)\n",
    "#convert the shuffled list to numpy array type\n",
    "train=np.array(train)\n",
    "labels=np.array(labels)"
   ]
  },
  {
   "cell_type": "code",
   "execution_count": 20,
   "metadata": {},
   "outputs": [],
   "source": [
    "#develop a sequential model using tensorflow keras\n",
    "model=keras.Sequential([\n",
    "    keras.layers.Flatten(input_shape=(64,64,3)),\n",
    "    keras.layers.Dense(128, activation=tf.nn.tanh),\n",
    "    keras.layers.Dense(5,activation=tf.nn.softmax)\n",
    "])"
   ]
  },
  {
   "cell_type": "code",
   "execution_count": 21,
   "metadata": {},
   "outputs": [],
   "source": [
    "#compute the model parameters\n",
    "model.compile(optimizer=tf.train.AdamOptimizer(),\n",
    "             loss='sparse_categorical_crossentropy',\n",
    "             metrics=['accuracy'])"
   ]
  },
  {
   "cell_type": "code",
   "execution_count": 23,
   "metadata": {},
   "outputs": [
    {
     "name": "stdout",
     "output_type": "stream",
     "text": [
      "Epoch 1/10\n",
      "4323/4323 [==============================] - 2s 494us/step - loss: 3.8364 - acc: 0.3724\n",
      "Epoch 2/10\n",
      "4323/4323 [==============================] - 2s 500us/step - loss: 3.8208 - acc: 0.4009\n",
      "Epoch 3/10\n",
      "4323/4323 [==============================] - 2s 515us/step - loss: 3.8095 - acc: 0.3743\n",
      "Epoch 4/10\n",
      "4323/4323 [==============================] - 2s 505us/step - loss: 3.4714 - acc: 0.3863\n",
      "Epoch 5/10\n",
      "4323/4323 [==============================] - 2s 514us/step - loss: 1.4146 - acc: 0.3706\n",
      "Epoch 6/10\n",
      "4323/4323 [==============================] - 2s 510us/step - loss: 1.3700 - acc: 0.3995\n",
      "Epoch 7/10\n",
      "4323/4323 [==============================] - 2s 523us/step - loss: 1.3211 - acc: 0.4254\n",
      "Epoch 8/10\n",
      "4323/4323 [==============================] - 2s 512us/step - loss: 1.3412 - acc: 0.4180\n",
      "Epoch 9/10\n",
      "4323/4323 [==============================] - 2s 517us/step - loss: 1.3375 - acc: 0.4182\n",
      "Epoch 10/10\n",
      "4323/4323 [==============================] - 2s 516us/step - loss: 1.3171 - acc: 0.4277\n"
     ]
    },
    {
     "data": {
      "text/plain": [
       "<tensorflow.python.keras.callbacks.History at 0x1d9a5476438>"
      ]
     },
     "execution_count": 23,
     "metadata": {},
     "output_type": "execute_result"
    }
   ],
   "source": [
    "#train the model with 5 epochs\n",
    "model.fit(train,labels, epochs=10)"
   ]
  },
  {
   "cell_type": "code",
   "execution_count": null,
   "metadata": {},
   "outputs": [],
   "source": []
  }
 ],
 "metadata": {
  "kernelspec": {
   "display_name": "Python 3",
   "language": "python",
   "name": "python3"
  },
  "language_info": {
   "codemirror_mode": {
    "name": "ipython",
    "version": 3
   },
   "file_extension": ".py",
   "mimetype": "text/x-python",
   "name": "python",
   "nbconvert_exporter": "python",
   "pygments_lexer": "ipython3",
   "version": "3.6.4"
  }
 },
 "nbformat": 4,
 "nbformat_minor": 2
}
